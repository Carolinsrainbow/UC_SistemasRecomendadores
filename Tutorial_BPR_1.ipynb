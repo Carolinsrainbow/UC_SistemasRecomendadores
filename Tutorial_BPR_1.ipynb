{
  "cells": [
    {
      "cell_type": "markdown",
      "metadata": {
        "id": "view-in-github",
        "colab_type": "text"
      },
      "source": [
        "<a href=\"https://colab.research.google.com/github/Carolinsrainbow/UC_SistemasRecomendadores/blob/main/Tutorial_BPR_1.ipynb\" target=\"_parent\"><img src=\"https://colab.research.google.com/assets/colab-badge.svg\" alt=\"Open In Colab\"/></a>"
      ]
    },
    {
      "cell_type": "markdown",
      "metadata": {
        "id": "-xFADzCKvytx"
      },
      "source": [
        "# Tutorial BPR con Implicit I\n",
        "\n",
        "MAN 3160 - Sistemas Recomendadores\n",
        "\n",
        "En este tutorial vamos el modelo BPR proporcionado por la librería Implicit.\n"
      ]
    },
    {
      "cell_type": "markdown",
      "metadata": {
        "id": "v9TkXpUGdfef"
      },
      "source": [
        "## Importar Librerías"
      ]
    },
    {
      "cell_type": "code",
      "execution_count": null,
      "metadata": {
        "id": "wRpbZmaNdfef",
        "outputId": "81f30312-2438-449a-cccd-68f83a45570f"
      },
      "outputs": [
        {
          "name": "stdout",
          "output_type": "stream",
          "text": [
            "Requirement already satisfied: wget in c:\\users\\alfi9\\appdata\\local\\programs\\python\\python39\\lib\\site-packages (3.2)"
          ]
        },
        {
          "name": "stderr",
          "output_type": "stream",
          "text": [
            "WARNING: Ignoring invalid distribution -rotobuf (c:\\users\\alfi9\\appdata\\local\\programs\\python\\python39\\lib\\site-packages)\n",
            "WARNING: Ignoring invalid distribution -rotobuf (c:\\users\\alfi9\\appdata\\local\\programs\\python\\python39\\lib\\site-packages)\n"
          ]
        },
        {
          "name": "stdout",
          "output_type": "stream",
          "text": [
            "\n",
            "Requirement already satisfied: zipfile36 in c:\\users\\alfi9\\appdata\\local\\programs\\python\\python39\\lib\\site-packages (0.1.3)\n"
          ]
        },
        {
          "name": "stderr",
          "output_type": "stream",
          "text": [
            "WARNING: Ignoring invalid distribution -rotobuf (c:\\users\\alfi9\\appdata\\local\\programs\\python\\python39\\lib\\site-packages)\n",
            "WARNING: Ignoring invalid distribution -rotobuf (c:\\users\\alfi9\\appdata\\local\\programs\\python\\python39\\lib\\site-packages)\n"
          ]
        },
        {
          "name": "stdout",
          "output_type": "stream",
          "text": [
            "Requirement already satisfied: implicit in c:\\users\\alfi9\\appdata\\local\\programs\\python\\python39\\lib\\site-packages (0.7.1)\n",
            "Requirement already satisfied: numpy in c:\\users\\alfi9\\appdata\\local\\programs\\python\\python39\\lib\\site-packages (from implicit) (1.22.1)\n",
            "Requirement already satisfied: scipy>=0.16 in c:\\users\\alfi9\\appdata\\local\\programs\\python\\python39\\lib\\site-packages (from implicit) (1.8.0)\n",
            "Requirement already satisfied: tqdm>=4.27 in c:\\users\\alfi9\\appdata\\local\\programs\\python\\python39\\lib\\site-packages (from implicit) (4.64.0)\n",
            "Requirement already satisfied: colorama in c:\\users\\alfi9\\appdata\\local\\programs\\python\\python39\\lib\\site-packages (from tqdm>=4.27->implicit) (0.4.4)\n"
          ]
        },
        {
          "name": "stderr",
          "output_type": "stream",
          "text": [
            "WARNING: Ignoring invalid distribution -rotobuf (c:\\users\\alfi9\\appdata\\local\\programs\\python\\python39\\lib\\site-packages)\n",
            "WARNING: Ignoring invalid distribution -rotobuf (c:\\users\\alfi9\\appdata\\local\\programs\\python\\python39\\lib\\site-packages)\n"
          ]
        }
      ],
      "source": [
        "# Instalamos librerías para descarcar y descomprimir archivos.\n",
        "\n",
        "!pip install wget\n",
        "!pip install zipfile36\n",
        "!pip3 install implicit --upgrade"
      ]
    },
    {
      "cell_type": "code",
      "execution_count": null,
      "metadata": {
        "id": "3kVCmLvjdfeg",
        "outputId": "95228d2f-1549-4048-e74d-de5e495a842f"
      },
      "outputs": [
        {
          "name": "stderr",
          "output_type": "stream",
          "text": [
            "C:\\Users\\alfi9\\AppData\\Local\\Programs\\Python\\Python39\\lib\\site-packages\\tqdm\\auto.py:22: TqdmWarning: IProgress not found. Please update jupyter and ipywidgets. See https://ipywidgets.readthedocs.io/en/stable/user_install.html\n",
            "  from .autonotebook import tqdm as notebook_tqdm\n"
          ]
        }
      ],
      "source": [
        "import pandas as pd\n",
        "import matplotlib.pyplot as plt\n",
        "import zipfile\n",
        "import numpy as np\n",
        "import implicit\n",
        "import scipy.sparse as sparse"
      ]
    },
    {
      "cell_type": "markdown",
      "metadata": {
        "id": "Tv6s4GW3dfeg"
      },
      "source": [
        "## Entrenamiento de agente BPR"
      ]
    },
    {
      "cell_type": "code",
      "execution_count": null,
      "metadata": {
        "id": "7lEeHDlRdfeg",
        "outputId": "81f9846b-6533-427b-f86c-7ebe28781a12"
      },
      "outputs": [
        {
          "name": "stdout",
          "output_type": "stream",
          "text": [
            "\n",
            "Saved under ml-100k (15).zip\n"
          ]
        }
      ],
      "source": [
        "!python -m wget http://files.grouplens.org/datasets/movielens/ml-100k.zip"
      ]
    },
    {
      "cell_type": "code",
      "execution_count": null,
      "metadata": {
        "id": "bRYmv4gPdfeh"
      },
      "outputs": [],
      "source": [
        "with zipfile.ZipFile(\"ml-100k.zip\", 'r') as zip_ref:\n",
        "    zip_ref.extractall(\".\")"
      ]
    },
    {
      "cell_type": "code",
      "execution_count": null,
      "metadata": {
        "id": "w24RNsxmdfeh"
      },
      "outputs": [],
      "source": [
        "dir_train = 'ml-100k'\n",
        "\n",
        "# Generamos los títulos de las columnas del archivo items.\n",
        "\n",
        "columns = ['movieid', 'title', 'release_date', 'video_release_date', \\\n",
        "           'IMDb_URL', 'unknown', 'Action', 'Adventure', 'Animation', \\\n",
        "           'Children', 'Comedy', 'Crime', 'Documentary', 'Drama', 'Fantasy', \\\n",
        "           'Film-Noir', 'Horror', 'Musical', 'Mystery', 'Romance', 'Sci-Fi', \\\n",
        "           'Thriller', 'War', 'Western']"
      ]
    },
    {
      "cell_type": "code",
      "execution_count": null,
      "metadata": {
        "id": "EmW8FIdPdfeh"
      },
      "outputs": [],
      "source": [
        "# Primero creamos el dataframe con los datos\n",
        "df_train = pd.read_csv(f'{dir_train}/u2.base',\n",
        "                         sep='\\t',\n",
        "                         names=['userid', 'itemid', 'rating', 'timestamp'],\n",
        "                         header=None)"
      ]
    },
    {
      "cell_type": "code",
      "execution_count": null,
      "metadata": {
        "id": "DathQAYadfeh"
      },
      "outputs": [],
      "source": [
        "# rating >= 3 , relevante (1) y rating menor a 3 es no relevante (0)\n",
        "df_train.rating = [1 if x >=3 else 0 for x in df_train.rating ]"
      ]
    },
    {
      "cell_type": "code",
      "execution_count": null,
      "metadata": {
        "id": "8qMR508qdfeh"
      },
      "outputs": [],
      "source": [
        "# Cargamos el dataset con los items\n",
        "df_items = pd.read_csv(f'{dir_train}/u.item',\n",
        "                        sep='|',\n",
        "                        index_col=0,\n",
        "                        names = columns,\n",
        "                        header=None,\n",
        "                        encoding='latin-1')"
      ]
    },
    {
      "cell_type": "code",
      "execution_count": null,
      "metadata": {
        "id": "qbKaQJQmdfeh"
      },
      "outputs": [],
      "source": [
        "# Cargamos el dataset de testing\n",
        "df_test = pd.read_csv(f'{dir_train}/u2.test',\n",
        "                      sep='\\t',\n",
        "                      names=['userid', 'itemid', 'rating', 'timestamp'],\n",
        "                      header=None)\n",
        "\n",
        "\n",
        "# rating >= 3 es relevante (1) y rating menor a 3 es no relevante (0)\n",
        "df_test.rating = [1 if x >= 3 else 0 for x in df_test.rating ]\n",
        "\n",
        "\n",
        "user_items_test = {}\n",
        "\n",
        "for row in df_test.itertuples():\n",
        "    if row[3]:\n",
        "        if row[1] not in user_items_test:\n",
        "            user_items_test[row[1]] = []\n",
        "\n",
        "        user_items_test[row[1]].append(row[2])"
      ]
    },
    {
      "cell_type": "code",
      "execution_count": null,
      "metadata": {
        "id": "ohbtMR8Hdfeh"
      },
      "outputs": [],
      "source": [
        "user_items = {}\n",
        "itemset = set()\n",
        "\n",
        "for row in df_train.itertuples():\n",
        "    if row[3]:\n",
        "        if row[1] not in user_items:\n",
        "            user_items[row[1]] = []\n",
        "\n",
        "        user_items[row[1]].append(row[2])\n",
        "        itemset.add(row[2])\n",
        "\n",
        "itemset = np.sort(list(itemset))\n",
        "\n",
        "sparse_matrix = np.zeros((len(user_items), len(itemset)))\n",
        "\n",
        "for i, items in enumerate(user_items.values()):\n",
        "    sparse_matrix[i] = np.isin(itemset, items, assume_unique=True).astype(int)\n",
        "\n",
        "user_item_matrix = sparse.csr_matrix(sparse_matrix)\n",
        "\n",
        "user_ids = {key: i for i, key in enumerate(user_items.keys())}\n",
        "items_ids = {key: i for i, key in enumerate(itemset)}"
      ]
    },
    {
      "cell_type": "code",
      "execution_count": null,
      "metadata": {
        "id": "13IfwQrmdfeh",
        "outputId": "e74f2f3c-89df-432d-d4c7-11a3db814d94"
      },
      "outputs": [
        {
          "name": "stderr",
          "output_type": "stream",
          "text": [
            "100%|██████████████████████████████████████████████| 100/100 [00:01<00:00, 51.16it/s, train_auc=89.18%, skipped=22.80%]\n"
          ]
        }
      ],
      "source": [
        "# Definimos y entrenamos el modelo con optimización BPR\n",
        "model_bpr = implicit.bpr.BayesianPersonalizedRanking()\n",
        "model_bpr.fit(user_item_matrix)"
      ]
    },
    {
      "cell_type": "markdown",
      "metadata": {
        "id": "vjqFGDdzOJGc"
      },
      "source": [
        "### Métricas"
      ]
    },
    {
      "cell_type": "code",
      "execution_count": null,
      "metadata": {
        "id": "fESMjaBBA8mx"
      },
      "outputs": [],
      "source": [
        "# Definicion de métricas (No editar)\n",
        "# Obtenido de https://gist.github.com/bwhite/3726239\n",
        "\n",
        "def precision_at_k(r, k):\n",
        "    assert k >= 1\n",
        "    r = np.asarray(r)[:k] != 0\n",
        "    if r.size != k:\n",
        "        raise ValueError('Relevance score length < k')\n",
        "    return np.mean(r)\n",
        "\n",
        "def average_precision(r):\n",
        "    r = np.asarray(r) != 0\n",
        "    out = [precision_at_k(r, k + 1) for k in range(r.size) if r[k]]\n",
        "    if not out:\n",
        "        return 0.\n",
        "    return np.mean(out)\n",
        "\n",
        "def mean_average_precision(rs):\n",
        "    return np.mean([average_precision(r) for r in rs])\n",
        "\n",
        "def dcg_at_k(r, k):\n",
        "    r = np.asfarray(r)[:k]\n",
        "    if r.size:\n",
        "        return np.sum(np.subtract(np.power(2, r), 1) / np.log2(np.arange(2, r.size + 2)))\n",
        "    return 0.\n",
        "\n",
        "\n",
        "def ndcg_at_k(r, k):\n",
        "    idcg = dcg_at_k(sorted(r, reverse=True), k)\n",
        "\n",
        "    if not idcg:\n",
        "        return 0.\n",
        "    return dcg_at_k(r, k) / idcg"
      ]
    },
    {
      "cell_type": "code",
      "execution_count": null,
      "metadata": {
        "id": "VvM6ecOVrp7R"
      },
      "outputs": [],
      "source": [
        "def evaluate_model(model, n):\n",
        "    mean_map = 0.\n",
        "    mean_ndcg = 0.\n",
        "    for u in user_items_test.keys():\n",
        "        rec = model.recommend(user_ids[u], user_item_matrix[user_ids[u]], n)[0]\n",
        "        rec = [itemset[r] for r in rec]\n",
        "        rel_vector = [np.isin(rec, user_items_test[u], assume_unique=True).astype(int)]\n",
        "        mean_map += mean_average_precision(rel_vector)\n",
        "        mean_ndcg += ndcg_at_k(rel_vector, n)\n",
        "\n",
        "    mean_map /= len(user_items_test)\n",
        "    mean_ndcg /= len(user_items_test)\n",
        "\n",
        "    return mean_map, mean_ndcg"
      ]
    },
    {
      "cell_type": "code",
      "execution_count": null,
      "metadata": {
        "id": "LevzqwMhteNA"
      },
      "outputs": [],
      "source": [
        "def show_recommendations(model, user, n):\n",
        "    recommendations = model.recommend(userid=user_ids[user], user_items=user_item_matrix[user_ids[user]], N=n)\n",
        "    return df_items.loc[recommendations[0]]['title']"
      ]
    },
    {
      "cell_type": "markdown",
      "metadata": {
        "id": "zpHGdPVddfei"
      },
      "source": [
        "## Evaluación del modelo"
      ]
    },
    {
      "cell_type": "code",
      "execution_count": null,
      "metadata": {
        "id": "KO9K2n12dfei",
        "outputId": "ad556e36-de0c-43bd-d94c-064f980fafe3"
      },
      "outputs": [
        {
          "name": "stdout",
          "output_type": "stream",
          "text": [
            "map@5: 0.5121901709401702 \n",
            "ndcg@5: 0.7676923076923077\n",
            "map@10: 0.47731450302343126 \n",
            "ndcg@10: 0.8630769230769231\n",
            "map@15: 0.44302460978830344 \n",
            "ndcg@15: 0.9123076923076923\n",
            "map@20: 0.41482785948422757 \n",
            "ndcg@20: 0.9261538461538461\n"
          ]
        }
      ],
      "source": [
        "for n in [5, 10, 15, 20]:\n",
        "    mmap, ndcg = evaluate_model(model_bpr, n)\n",
        "    print(f'map@{n}: {mmap} \\nndcg@{n}: {ndcg}')"
      ]
    },
    {
      "cell_type": "markdown",
      "metadata": {
        "id": "BCe_Sx3mdfei"
      },
      "source": [
        "# Explorar distintas señales de feedback"
      ]
    },
    {
      "cell_type": "code",
      "execution_count": null,
      "metadata": {
        "id": "ThXQozVhdfei"
      },
      "outputs": [],
      "source": [
        "df_train = pd.read_csv(f'{dir_train}/u2.base',\n",
        "                         sep='\\t',\n",
        "                         names=['userid', 'itemid', 'rating', 'timestamp'],\n",
        "                         header=None)\n",
        "\n",
        "df_test = pd.read_csv(f'{dir_train}/u2.test',\n",
        "                      sep='\\t',\n",
        "                      names=['userid', 'itemid', 'rating', 'timestamp'],\n",
        "                      header=None)"
      ]
    },
    {
      "cell_type": "code",
      "execution_count": null,
      "metadata": {
        "id": "isLe3gT3dfei",
        "outputId": "291cedad-6010-4a1c-8d8d-41a6774e2688"
      },
      "outputs": [
        {
          "name": "stderr",
          "output_type": "stream",
          "text": [
            "100%|█████████████████████████████████████████████| 100/100 [00:00<00:00, 155.76it/s, train_auc=89.49%, skipped=24.76%]\n"
          ]
        },
        {
          "name": "stdout",
          "output_type": "stream",
          "text": [
            "Evaluando para ítems con calificación superior o igual a 1:\n",
            "map@10: 0.4885171589196057 \n",
            "ndcg@10: 0.889739663093415\n"
          ]
        },
        {
          "name": "stderr",
          "output_type": "stream",
          "text": [
            "100%|█████████████████████████████████████████████| 100/100 [00:00<00:00, 158.32it/s, train_auc=89.08%, skipped=24.26%]\n"
          ]
        },
        {
          "name": "stdout",
          "output_type": "stream",
          "text": [
            "Evaluando para ítems con calificación superior o igual a 2:\n",
            "map@10: 0.48799528907507084 \n",
            "ndcg@10: 0.8742331288343558\n"
          ]
        },
        {
          "name": "stderr",
          "output_type": "stream",
          "text": [
            "100%|█████████████████████████████████████████████| 100/100 [00:00<00:00, 176.28it/s, train_auc=89.07%, skipped=22.64%]\n"
          ]
        },
        {
          "name": "stdout",
          "output_type": "stream",
          "text": [
            "Evaluando para ítems con calificación superior o igual a 3:\n",
            "map@10: 0.46516735057270747 \n",
            "ndcg@10: 0.8569230769230769\n"
          ]
        },
        {
          "name": "stderr",
          "output_type": "stream",
          "text": [
            "100%|█████████████████████████████████████████████| 100/100 [00:00<00:00, 224.51it/s, train_auc=88.54%, skipped=18.81%]\n"
          ]
        },
        {
          "name": "stdout",
          "output_type": "stream",
          "text": [
            "Evaluando para ítems con calificación superior o igual a 4:\n",
            "map@10: 0.4019901499822381 \n",
            "ndcg@10: 0.7841614906832298\n"
          ]
        },
        {
          "name": "stderr",
          "output_type": "stream",
          "text": [
            "100%|█████████████████████████████████████████████| 100/100 [00:00<00:00, 354.05it/s, train_auc=84.78%, skipped=11.21%]\n"
          ]
        },
        {
          "name": "stdout",
          "output_type": "stream",
          "text": [
            "Evaluando para ítems con calificación superior o igual a 5:\n",
            "map@10: 0.26456913639298324 \n",
            "ndcg@10: 0.5798611111111112\n"
          ]
        }
      ],
      "source": [
        "df_train_original = df_train.copy()\n",
        "df_test_original = df_test.copy()\n",
        "for r in range(1,6):\n",
        "    df_train.rating = [1 if x >= r else 0 for x in df_train_original.rating ]\n",
        "\n",
        "    df_test.rating = [1 if x >= r else 0 for x in df_test_original.rating ]\n",
        "\n",
        "\n",
        "    user_items_test = {}\n",
        "\n",
        "\n",
        "    user_items = {}\n",
        "    itemset = set()\n",
        "\n",
        "    for row in df_train.itertuples():\n",
        "        if row[3]:\n",
        "            if row[1] not in user_items:\n",
        "                user_items[row[1]] = []\n",
        "\n",
        "            user_items[row[1]].append(row[2])\n",
        "            itemset.add(row[2])\n",
        "\n",
        "    itemset = np.sort(list(itemset))\n",
        "\n",
        "    for row in df_test.itertuples():\n",
        "        if row[3] and row[1] in user_items: # Solo tomamos filas con rating (row[3]) = 1 y usuarios que tengan interacciones en el set de entrenamiento\n",
        "            if row[1] not in user_items_test:\n",
        "                user_items_test[row[1]] = []\n",
        "\n",
        "            user_items_test[row[1]].append(row[2])\n",
        "\n",
        "    sparse_matrix = np.zeros((len(user_items), len(itemset)))\n",
        "\n",
        "    for i, items in enumerate(user_items.values()):\n",
        "        sparse_matrix[i] = np.isin(itemset, items, assume_unique=True).astype(int)\n",
        "\n",
        "    user_item_matrix = sparse.csr_matrix(sparse_matrix)\n",
        "\n",
        "    user_ids = {key: i for i, key in enumerate(user_items.keys())}\n",
        "    items_ids = {key: i for i, key in enumerate(itemset)}\n",
        "\n",
        "    model_bpr = implicit.bpr.BayesianPersonalizedRanking()\n",
        "    model_bpr.fit(user_item_matrix)\n",
        "    print(f\"Evaluando para ítems con calificación superior o igual a {r}:\")\n",
        "    mmap, ndcg = evaluate_model(model_bpr, 10)\n",
        "    print(f'map@{10}: {mmap} \\nndcg@{10}: {ndcg}')"
      ]
    }
  ],
  "metadata": {
    "colab": {
      "provenance": [],
      "include_colab_link": true
    },
    "kernelspec": {
      "display_name": "Python 3 (ipykernel)",
      "language": "python",
      "name": "python3"
    },
    "language_info": {
      "codemirror_mode": {
        "name": "ipython",
        "version": 3
      },
      "file_extension": ".py",
      "mimetype": "text/x-python",
      "name": "python",
      "nbconvert_exporter": "python",
      "pygments_lexer": "ipython3",
      "version": "3.9.0"
    },
    "toc": {
      "base_numbering": 1,
      "nav_menu": {},
      "number_sections": true,
      "sideBar": true,
      "skip_h1_title": false,
      "title_cell": "Table of Contents",
      "title_sidebar": "Contents",
      "toc_cell": false,
      "toc_position": {},
      "toc_section_display": true,
      "toc_window_display": false
    }
  },
  "nbformat": 4,
  "nbformat_minor": 0
}